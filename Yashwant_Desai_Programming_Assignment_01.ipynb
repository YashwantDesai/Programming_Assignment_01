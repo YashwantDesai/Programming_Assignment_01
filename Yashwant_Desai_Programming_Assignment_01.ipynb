{
 "cells": [
  {
   "cell_type": "markdown",
   "id": "0c27a818",
   "metadata": {},
   "source": [
    "# Yashwant Desai –  Programming_Assingment 01"
   ]
  },
  {
   "cell_type": "markdown",
   "id": "693799f7",
   "metadata": {},
   "source": [
    "# 1.\tWrite a Python program to print \"Hello Python\"?"
   ]
  },
  {
   "cell_type": "code",
   "execution_count": 1,
   "id": "d7fa67a5",
   "metadata": {},
   "outputs": [
    {
     "name": "stdout",
     "output_type": "stream",
     "text": [
      "Hello Python\n"
     ]
    }
   ],
   "source": [
    "print(\"Hello Python\")"
   ]
  },
  {
   "cell_type": "markdown",
   "id": "930374c9",
   "metadata": {},
   "source": [
    "# 2.\tWrite a Python program to do arithmetical operations addition and division.?"
   ]
  },
  {
   "cell_type": "code",
   "execution_count": 2,
   "id": "8caa80b5",
   "metadata": {},
   "outputs": [
    {
     "name": "stdout",
     "output_type": "stream",
     "text": [
      "Arithmetical Operations: Addition and Division\n",
      "Enter two numbers:\n",
      "Enter the first number: 50\n",
      "Enter the second number: 80\n",
      "Addition: 50.0 + 80.0 = 130.0\n",
      "Division: 50.0 / 80.0 = 0.625\n"
     ]
    }
   ],
   "source": [
    "def add(a, b):\n",
    "    return a + b\n",
    "\n",
    "def divide(a, b):\n",
    "    if b == 0:\n",
    "        return \"Cannot divide by zero!\"\n",
    "    return a / b\n",
    "\n",
    "def main():\n",
    "    print(\"Arithmetical Operations: Addition and Division\")\n",
    "    print(\"Enter two numbers:\")\n",
    "\n",
    "    try:\n",
    "        num1 = float(input(\"Enter the first number: \"))\n",
    "        num2 = float(input(\"Enter the second number: \"))\n",
    "\n",
    "        result_addition = add(num1, num2)\n",
    "        print(f\"Addition: {num1} + {num2} = {result_addition}\")\n",
    "\n",
    "        result_division = divide(num1, num2)\n",
    "        print(f\"Division: {num1} / {num2} = {result_division}\")\n",
    "\n",
    "    except ValueError:\n",
    "        print(\"Invalid input! Please enter valid numbers.\")\n",
    "\n",
    "if __name__ == \"__main__\":\n",
    "    main()\n"
   ]
  },
  {
   "cell_type": "markdown",
   "id": "a74c45bb",
   "metadata": {},
   "source": [
    "# 3.\tWrite a Python program to find the area of a triangle?"
   ]
  },
  {
   "cell_type": "code",
   "execution_count": 3,
   "id": "f7988b27",
   "metadata": {},
   "outputs": [
    {
     "name": "stdout",
     "output_type": "stream",
     "text": [
      "Calculate the Area of a Triangle\n",
      "Enter the length of the base: 100\n",
      "Enter the height: 200\n",
      "The area of the triangle with base 100.0 and height 200.0 is: 10000.0\n"
     ]
    }
   ],
   "source": [
    "def calculate_triangle_area(base, height):\n",
    "    return (base * height) / 2\n",
    "\n",
    "def main():\n",
    "    print(\"Calculate the Area of a Triangle\")\n",
    "    try:\n",
    "        base = float(input(\"Enter the length of the base: \"))\n",
    "        height = float(input(\"Enter the height: \"))\n",
    "        if base <= 0 or height <= 0:\n",
    "            print(\"Base and height should be positive numbers.\")\n",
    "        else:\n",
    "            area = calculate_triangle_area(base, height)\n",
    "            print(f\"The area of the triangle with base {base} and height {height} is: {area}\")\n",
    "    except ValueError:\n",
    "        print(\"Invalid input! Please enter valid numbers.\")\n",
    "\n",
    "if __name__ == \"__main__\":\n",
    "    main()"
   ]
  },
  {
   "cell_type": "markdown",
   "id": "52e51dd4",
   "metadata": {},
   "source": [
    "# 4.\tWrite a Python program to swap two variables?"
   ]
  },
  {
   "cell_type": "code",
   "execution_count": 4,
   "id": "3df76b53",
   "metadata": {},
   "outputs": [
    {
     "name": "stdout",
     "output_type": "stream",
     "text": [
      "Swap Two Variables\n",
      "Enter the value of the first variable (a): 30\n",
      "Enter the value of the second variable (b): 40\n",
      "Before swapping: a = 30.0, b = 40.0\n",
      "After swapping: a = 40.0, b = 30.0\n"
     ]
    }
   ],
   "source": [
    "def swap_variables(a, b):\n",
    "    temp = a\n",
    "    a = b\n",
    "    b = temp\n",
    "    return a, b\n",
    "\n",
    "def main():\n",
    "    print(\"Swap Two Variables\")\n",
    "    try:\n",
    "        a = float(input(\"Enter the value of the first variable (a): \"))\n",
    "        b = float(input(\"Enter the value of the second variable (b): \"))\n",
    "\n",
    "        print(f\"Before swapping: a = {a}, b = {b}\")\n",
    "\n",
    "        a, b = swap_variables(a, b)\n",
    "\n",
    "        print(f\"After swapping: a = {a}, b = {b}\")\n",
    "\n",
    "    except ValueError:\n",
    "        print(\"Invalid input! Please enter valid numbers.\")\n",
    "\n",
    "if __name__ == \"__main__\":\n",
    "    main()"
   ]
  },
  {
   "cell_type": "markdown",
   "id": "ed05518f",
   "metadata": {},
   "source": [
    "# 5.\tWrite a Python program to generate a random number?"
   ]
  },
  {
   "cell_type": "code",
   "execution_count": 5,
   "id": "5eeeb7f4",
   "metadata": {},
   "outputs": [
    {
     "name": "stdout",
     "output_type": "stream",
     "text": [
      "Generate a Random Number\n",
      "The random number is: 0.39658122328032963\n"
     ]
    }
   ],
   "source": [
    "import random\n",
    "\n",
    "def generate_random_number():\n",
    "    return random.random()\n",
    "\n",
    "def main():\n",
    "    print(\"Generate a Random Number\")\n",
    "    random_number = generate_random_number()\n",
    "    print(f\"The random number is: {random_number}\")\n",
    "\n",
    "if __name__ == \"__main__\":\n",
    "    main()"
   ]
  },
  {
   "cell_type": "markdown",
   "id": "a79c0885",
   "metadata": {},
   "source": [
    "# Done Regards,Yashwant"
   ]
  }
 ],
 "metadata": {
  "kernelspec": {
   "display_name": "Python 3 (ipykernel)",
   "language": "python",
   "name": "python3"
  },
  "language_info": {
   "codemirror_mode": {
    "name": "ipython",
    "version": 3
   },
   "file_extension": ".py",
   "mimetype": "text/x-python",
   "name": "python",
   "nbconvert_exporter": "python",
   "pygments_lexer": "ipython3",
   "version": "3.9.13"
  }
 },
 "nbformat": 4,
 "nbformat_minor": 5
}
