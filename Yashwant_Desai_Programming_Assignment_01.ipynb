{
 "cells": [
  {
   "cell_type": "markdown",
   "id": "0c27a818",
   "metadata": {},
   "source": [
    "# Yashwant Desai –  Programming_Assingment 01"
   ]
  },
  {
   "cell_type": "markdown",
   "id": "693799f7",
   "metadata": {},
   "source": [
    "# 1.\tWrite a Python program to print \"Hello Python\"?"
   ]
  },
  {
   "cell_type": "code",
   "execution_count": 1,
   "id": "d7fa67a5",
   "metadata": {},
   "outputs": [
    {
     "name": "stdout",
     "output_type": "stream",
     "text": [
      "Hello Python\n"
     ]
    }
   ],
   "source": [
    "print(\"Hello Python\")"
   ]
  },
  {
   "cell_type": "markdown",
   "id": "930374c9",
   "metadata": {},
   "source": [
    "# 2.\tWrite a Python program to do arithmetical operations addition and division.?"
   ]
  },
  {
   "cell_type": "code",
   "execution_count": 2,
   "id": "ffa845f6",
   "metadata": {},
   "outputs": [
    {
     "name": "stdout",
     "output_type": "stream",
     "text": [
      "Enter the first number: 20\n",
      "Enter the second number: 30\n",
      "Addition: 20.0 + 30.0 = 50.0\n",
      "Division: 20.0 / 30.0 = 0.6666666666666666\n"
     ]
    }
   ],
   "source": [
    "first_number = float(input(\"Enter the first number: \"))\n",
    "second_number = float(input(\"Enter the second number: \"))\n",
    "\n",
    "addition_result = first_number + second_number\n",
    "division_result = first_number / second_number\n",
    "\n",
    "print(f\"Addition: {first_number} + {second_number} = {addition_result}\")\n",
    "print(f\"Division: {first_number} / {second_number} = {division_result}\")"
   ]
  },
  {
   "cell_type": "markdown",
   "id": "a74c45bb",
   "metadata": {},
   "source": [
    "# 3.\tWrite a Python program to find the area of a triangle?"
   ]
  },
  {
   "cell_type": "code",
   "execution_count": 3,
   "id": "f4fe4ea7",
   "metadata": {},
   "outputs": [
    {
     "name": "stdout",
     "output_type": "stream",
     "text": [
      "Enter the length of the base: 100\n",
      "Enter the height: 200\n",
      "The area of the triangle with base 100.0 and height 200.0 is: 10000.0\n"
     ]
    }
   ],
   "source": [
    "base = float(input(\"Enter the length of the base: \"))\n",
    "height = float(input(\"Enter the height: \"))\n",
    "result = (base * height) / 2\n",
    "print(f\"The area of the triangle with base {base} and height {height} is: {result}\")"
   ]
  },
  {
   "cell_type": "markdown",
   "id": "52e51dd4",
   "metadata": {},
   "source": [
    "# 4.\tWrite a Python program to swap two variables?"
   ]
  },
  {
   "cell_type": "code",
   "execution_count": 4,
   "id": "35142c77",
   "metadata": {},
   "outputs": [
    {
     "name": "stdout",
     "output_type": "stream",
     "text": [
      "Enter the value (number) of the first variable (a): 50\n",
      "Enter the value (number) of the second variable (b): 100\n",
      "Before swapping: a = 50.0, b = 100.0\n",
      "After swapping: a = 100.0, b = 100.0\n"
     ]
    }
   ],
   "source": [
    "a = float(input(\"Enter the value (number) of the first variable (a): \"))\n",
    "b = float(input(\"Enter the value (number) of the second variable (b): \"))\n",
    "print(f\"Before swapping: a = {a}, b = {b}\")\n",
    "a = b\n",
    "b = a\n",
    "print(f\"After swapping: a = {a}, b = {b}\")"
   ]
  },
  {
   "cell_type": "markdown",
   "id": "ed05518f",
   "metadata": {},
   "source": [
    "# 5.\tWrite a Python program to generate a random number?"
   ]
  },
  {
   "cell_type": "code",
   "execution_count": 5,
   "id": "5eeeb7f4",
   "metadata": {},
   "outputs": [
    {
     "name": "stdout",
     "output_type": "stream",
     "text": [
      "Generate a Random Number\n",
      "The random number is: 0.9370687579232464\n"
     ]
    }
   ],
   "source": [
    "import random\n",
    "\n",
    "def generate_random_number():\n",
    "    return random.random()\n",
    "\n",
    "def main():\n",
    "    print(\"Generate a Random Number\")\n",
    "    random_number = generate_random_number()\n",
    "    print(f\"The random number is: {random_number}\")\n",
    "\n",
    "if __name__ == \"__main__\":\n",
    "    main()"
   ]
  },
  {
   "cell_type": "markdown",
   "id": "a79c0885",
   "metadata": {},
   "source": [
    "# Done Regards,Yashwant"
   ]
  }
 ],
 "metadata": {
  "kernelspec": {
   "display_name": "Python 3 (ipykernel)",
   "language": "python",
   "name": "python3"
  },
  "language_info": {
   "codemirror_mode": {
    "name": "ipython",
    "version": 3
   },
   "file_extension": ".py",
   "mimetype": "text/x-python",
   "name": "python",
   "nbconvert_exporter": "python",
   "pygments_lexer": "ipython3",
   "version": "3.9.13"
  }
 },
 "nbformat": 4,
 "nbformat_minor": 5
}
